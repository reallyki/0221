{
 "cells": [
  {
   "cell_type": "code",
   "execution_count": 3,
   "id": "34912ef6",
   "metadata": {},
   "outputs": [
    {
     "name": "stdout",
     "output_type": "stream",
     "text": [
      "Name : Really\n",
      "your name is Really ...\n"
     ]
    }
   ],
   "source": [
    "name = input('Name : ')\n",
    "print('your name is', name,'...')"
   ]
  },
  {
   "cell_type": "code",
   "execution_count": 4,
   "id": "62dbdab0",
   "metadata": {},
   "outputs": [
    {
     "name": "stdout",
     "output_type": "stream",
     "text": [
      "hello Really \n"
     ]
    }
   ],
   "source": [
    "print('hello %s ' %name)"
   ]
  },
  {
   "cell_type": "code",
   "execution_count": 5,
   "id": "c5be99f9",
   "metadata": {},
   "outputs": [
    {
     "name": "stdout",
     "output_type": "stream",
     "text": [
      "hello Really!\n"
     ]
    }
   ],
   "source": [
    "print(f'hello {name}!')\n",
    "# f-string"
   ]
  },
  {
   "cell_type": "code",
   "execution_count": 20,
   "id": "9ae1d418",
   "metadata": {},
   "outputs": [
    {
     "name": "stdout",
     "output_type": "stream",
     "text": [
      "가로 : 35\n",
      "세로 : 67\n",
      "사격형의 넓이는 2345 입니다\n"
     ]
    }
   ],
   "source": [
    "width = int(input('가로 : '))\n",
    "height = int(input('세로 : '))\n",
    "\n",
    "result = (width * height)\n",
    "\n",
    "print('사격형의 넓이는 %d 입니다'%result)"
   ]
  },
  {
   "cell_type": "code",
   "execution_count": null,
   "id": "052b05c8",
   "metadata": {},
   "outputs": [],
   "source": []
  }
 ],
 "metadata": {
  "kernelspec": {
   "display_name": "Python 3 (ipykernel)",
   "language": "python",
   "name": "python3"
  },
  "language_info": {
   "codemirror_mode": {
    "name": "ipython",
    "version": 3
   },
   "file_extension": ".py",
   "mimetype": "text/x-python",
   "name": "python",
   "nbconvert_exporter": "python",
   "pygments_lexer": "ipython3",
   "version": "3.10.6"
  }
 },
 "nbformat": 4,
 "nbformat_minor": 5
}
